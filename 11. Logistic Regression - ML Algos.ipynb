{
 "cells": [
  {
   "cell_type": "markdown",
   "metadata": {},
   "source": [
    "# Logistic Regression\n",
    "It is type of **Regression** Models. It helps in `classification` although it is not a `Classification Model`.\n",
    "\n",
    "==> **Regression based Classificaiton**\n",
    "\n",
    "There are two types of Classification as we know:\n",
    "- Binary\n",
    "- Categorical"
   ]
  },
  {
   "cell_type": "markdown",
   "metadata": {},
   "source": [
    "**Logistic Regression** is used for `Binary Classification`\n",
    "\n",
    "What it does is that it helps you make classification based on linear regression. How?\n",
    "\n",
    "The formula used in `Logistic Regression` is:\n",
    "\n",
    "`y = 1 / 1(1 + e^-y)`\n",
    "\n",
    "---\n",
    "\n",
    "It is known as **Sigmoid function** the most used function for classification in ML & Deep Learning across the globe.\n",
    "\n",
    "---\n",
    "\n",
    "Now, putting `y = mx + b`\n",
    "\n",
    "`y = 1 / (1 + e ^ -(mx+b))`\n",
    "\n",
    "And as we know `y = mx + b` is used in Linear Regression so now things are quite clear how we will be making classifications based on regressions."
   ]
  },
  {
   "cell_type": "markdown",
   "metadata": {},
   "source": [
    "*Output looks like:*\n",
    "\n",
    "![](log_regression.png)"
   ]
  },
  {
   "cell_type": "markdown",
   "metadata": {},
   "source": [
    "Since, we are dealing with Binary Classification so now the **Sigmoid** ftn has range between `0, 1`"
   ]
  },
  {
   "cell_type": "markdown",
   "metadata": {},
   "source": [
    "## Loss Function\n",
    "Name: `Log loss function`\n",
    "\n",
    "`-1/N (summition (0-->1) yi.log(pi) + (1-yi).log(1-pi))`\n",
    "\n",
    "Where `y` will be any `feature`, `p` stands for **probability** in our case it will be *Prediction* done by model."
   ]
  },
  {
   "cell_type": "markdown",
   "metadata": {},
   "source": [
    "`Loss ftn` is used by **Gradient Descent** that will then change the slope `m` making changes in our graph. It simply gets the distance from best-fit line to all the points. And then adjust the line in a way where the distance to all points are minimum possible.\n",
    "\n",
    "And it is done via changing in slope `m`"
   ]
  },
  {
   "cell_type": "code",
   "execution_count": null,
   "metadata": {},
   "outputs": [],
   "source": []
  }
 ],
 "metadata": {
  "kernelspec": {
   "display_name": "Python 3",
   "language": "python",
   "name": "python3"
  },
  "language_info": {
   "codemirror_mode": {
    "name": "ipython",
    "version": 3
   },
   "file_extension": ".py",
   "mimetype": "text/x-python",
   "name": "python",
   "nbconvert_exporter": "python",
   "pygments_lexer": "ipython3",
   "version": "3.6.5"
  }
 },
 "nbformat": 4,
 "nbformat_minor": 4
}
