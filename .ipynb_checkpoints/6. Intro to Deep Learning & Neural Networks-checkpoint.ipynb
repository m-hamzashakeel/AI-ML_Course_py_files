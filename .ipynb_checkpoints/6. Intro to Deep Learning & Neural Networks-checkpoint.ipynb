{
 "cells": [
  {
   "cell_type": "markdown",
   "metadata": {},
   "source": [
    "# Intro to Deep Learning & Neural Networks\n",
    "Actualy implementation in industry level is done via Deep learning. ML is just a spark that will get you started.\n",
    "\n",
    "It is subset of Machine Learning\n",
    "\n",
    "AI ==> ML ==> Deep Learning\n",
    "\n",
    "- Deep learning doens't use models from ML. It uses one model named as Neural Networks. (As it works like a human brain)"
   ]
  }
 ],
 "metadata": {
  "kernelspec": {
   "display_name": "Python 3",
   "language": "python",
   "name": "python3"
  },
  "language_info": {
   "codemirror_mode": {
    "name": "ipython",
    "version": 3
   },
   "file_extension": ".py",
   "mimetype": "text/x-python",
   "name": "python",
   "nbconvert_exporter": "python",
   "pygments_lexer": "ipython3",
   "version": "3.7.0"
  }
 },
 "nbformat": 4,
 "nbformat_minor": 4
}
