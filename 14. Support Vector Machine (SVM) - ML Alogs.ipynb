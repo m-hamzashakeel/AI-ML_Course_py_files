{
 "cells": [
  {
   "cell_type": "markdown",
   "metadata": {},
   "source": [
    "# Support Vector Machine (SVM)\n",
    "- For Classification\n",
    "\n",
    "    - **Supervised Classification**\n",
    "    - We have Data & Targets/Labels\n",
    "    \n",
    " - Types\n",
    "     - Linear SVM\n",
    "     - Non-Linear SVM\n",
    "    "
   ]
  },
  {
   "cell_type": "markdown",
   "metadata": {},
   "source": [
    "---\n",
    "\n",
    "Detailed file is in SVM dir.\n",
    "\n",
    "---"
   ]
  },
  {
   "cell_type": "markdown",
   "metadata": {},
   "source": [
    "## Types of Data\n",
    "\n",
    "### Linearly Separable Data\n",
    "A data which divides into two halves when a line **(hyperplane)** is passed through it.\n",
    "- Single Logistic Regression can be used\n",
    "\n",
    "### Non-Linearly Separable Data\n",
    "A data which is mixed and cannot be separated by a line **(hyperplane)** through it.\n",
    "- Non Linear SVM is used\n",
    "\n",
    "### hyperplane\n",
    "- Its not a line, it has various dimension"
   ]
  },
  {
   "cell_type": "markdown",
   "metadata": {},
   "source": [
    "## Support Vectors\n",
    "Points that are close to the deicision making line/boundry/hyperplane are known as **Support Vectors**\n",
    "![](supportVectors.png)\n",
    "\n",
    "Single point is known as supporting vector that helps you represents your data."
   ]
  },
  {
   "cell_type": "markdown",
   "metadata": {},
   "source": [
    "### Margin\n",
    "The distance between closest supporting vectors labled as **d-** and **d+**\n",
    "\n",
    "    - Small Margin\n",
    "    - Large Margin"
   ]
  },
  {
   "cell_type": "code",
   "execution_count": null,
   "metadata": {},
   "outputs": [],
   "source": []
  }
 ],
 "metadata": {
  "kernelspec": {
   "display_name": "Python 3",
   "language": "python",
   "name": "python3"
  },
  "language_info": {
   "codemirror_mode": {
    "name": "ipython",
    "version": 3
   },
   "file_extension": ".py",
   "mimetype": "text/x-python",
   "name": "python",
   "nbconvert_exporter": "python",
   "pygments_lexer": "ipython3",
   "version": "3.6.5"
  }
 },
 "nbformat": 4,
 "nbformat_minor": 4
}
