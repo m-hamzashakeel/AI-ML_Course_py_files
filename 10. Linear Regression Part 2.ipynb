{
 "cells": [
  {
   "cell_type": "markdown",
   "metadata": {},
   "source": [
    "# Linea Regression Part 2\n",
    "\n",
    "Watch lecture for details <a href=\"https://drive.google.com/file/d/1fPUmdSqfdaEYnhTHsR195lTjYL07ZqCI/view\">Linear Regression</a>\n",
    "\n",
    "ML Models:\n",
    "- Regression Mathematics\n",
    "    - Linear Regression\n",
    "    - Logistic Regression etc.\n",
    "- Classification\n",
    "    - Image Classification etc.\n",
    "\n"
   ]
  },
  {
   "cell_type": "markdown",
   "metadata": {},
   "source": [
    "### Linear Regression\n",
    "\n",
    "`y = mx + b`\n",
    "\n",
    "**y** is dependent variable, while **x** is independent variable\n",
    "\n",
    "If,\n",
    "\n",
    "`b=0` & `m=1` then we have `y=x`\n",
    "\n",
    "There's an issue with this equation i.e. the **Domain** is `(-infinity, +infinity)`. Meaning the graph can converge anywhere in between.\n",
    "\n",
    "**This issue will be resolved with Logistic Regression**"
   ]
  },
  {
   "cell_type": "markdown",
   "metadata": {},
   "source": [
    "### Loss\n",
    "Error: The distance from best-fit line to the point far from it. So, we keep getting all the distance, taking square of them and then adding them altogether.\n",
    "\n",
    "Final answer is `Loss`"
   ]
  },
  {
   "cell_type": "markdown",
   "metadata": {},
   "source": [
    "## Types of Linear Regression\n",
    "\n",
    "- Single Variable LR\n",
    "    - Like the general examples we did. Where we have `y` depending on `x` like `y = mx + b`\n",
    "- Multi Varibale LR\n",
    "    - In this case we have `y` depending on more than 1 variable let's say `y = mx1 + b1, mx2 + b2, mx3 + b3...`\n",
    "    - Multi Dimension Graphs\n",
    "    "
   ]
  },
  {
   "cell_type": "code",
   "execution_count": null,
   "metadata": {},
   "outputs": [],
   "source": []
  }
 ],
 "metadata": {
  "kernelspec": {
   "display_name": "Python 3",
   "language": "python",
   "name": "python3"
  },
  "language_info": {
   "codemirror_mode": {
    "name": "ipython",
    "version": 3
   },
   "file_extension": ".py",
   "mimetype": "text/x-python",
   "name": "python",
   "nbconvert_exporter": "python",
   "pygments_lexer": "ipython3",
   "version": "3.6.5"
  }
 },
 "nbformat": 4,
 "nbformat_minor": 4
}
