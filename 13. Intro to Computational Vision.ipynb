{
 "cells": [
  {
   "cell_type": "markdown",
   "metadata": {},
   "source": [
    "# Introduction to Computational Vision\n",
    "Its more like a theoratcial topics. So, watch <a href=\"https://mega.nz/file/VrxFQTJT#8csGYcV6sUymfpuCGNWfYK5DzQ8ri32uiIV5IzEXQ9k\">video lecture</a> for details.\n",
    "\n",
    "- Other points will be written below"
   ]
  },
  {
   "cell_type": "markdown",
   "metadata": {},
   "source": [
    "### Major Research Across the Globe\n",
    "How to put Human level of intellect into machines so that we don't need thousands of samples or datasets to train it. Rather it starts working or learning just using few samples like humans do.\n",
    "\n",
    "e.g. We don't need thousand images of cat to know that its a cat. But a machine do.\n",
    "\n",
    "---\n",
    "\n",
    "FANG are working for best pedestrian detection system in the world.\n",
    "\n",
    "---"
   ]
  },
  {
   "cell_type": "markdown",
   "metadata": {},
   "source": [
    "## Origin of Light\n",
    "Took 2000 years to understand the light"
   ]
  },
  {
   "cell_type": "markdown",
   "metadata": {},
   "source": [
    "### Ancient Greeks to Einstien\n",
    "\n",
    "#### Greeks Concept\n",
    "We have flashlights in our eyes, which then helps us seeing the objects.\n",
    "\n",
    "#### Euclid Mathematics\n",
    "Light travel in staright line. Light only goes out of eyes not comes into it."
   ]
  },
  {
   "cell_type": "markdown",
   "metadata": {},
   "source": [
    "## Muslims Era - Biggest Contribution to Computational Vision\n",
    "\n",
    "#### Ibn Al Haytham\n",
    "Ilm-e-Basriyat :> Book\n",
    "\n",
    "Experiment (Search for it)"
   ]
  },
  {
   "cell_type": "markdown",
   "metadata": {},
   "source": [
    "#### Dutch Astronomer - Ole Romer\n",
    "Concept that light travels (time lag). That is light travels at some speed."
   ]
  },
  {
   "cell_type": "markdown",
   "metadata": {},
   "source": [
    "## Era of Newton\n",
    "#### Issac Newton\n",
    "- Light is mixture of **particles** (or single particle)\n",
    "- Proposed 'Corpuscles' theory\n",
    "- Passed white light into Prism and it divided into 7 visible colors \n",
    "    - Light is not just 1 color, it is mix up of 7 different color of lights"
   ]
  },
  {
   "cell_type": "markdown",
   "metadata": {},
   "source": [
    "#### Thomas Young - Double Slit Experiment 1806\n",
    "- Shocked the world's concept of light via Young's Double Split Experiment\n",
    "- Put out the concept that Light is a **Wave**"
   ]
  },
  {
   "cell_type": "markdown",
   "metadata": {},
   "source": [
    "---\n",
    "\n",
    "### Light is neither Particle nor Wave\n",
    "It initiated concept of Many World Universe (Multiverse)"
   ]
  },
  {
   "cell_type": "markdown",
   "metadata": {},
   "source": [
    "#### Astronomer William Hershel\n",
    "- Concepts of Gamma Rays, X-Rays, infrared, visible etc."
   ]
  },
  {
   "cell_type": "markdown",
   "metadata": {},
   "source": [
    "### Fact\n",
    "Since, 70% of our body is made up of water and so are eyes. That's why you feel watery stuff when you touch your eyes. As eyes can only see light having frequency matching those visible lights (7 colors) or you can say white light. That's the reason only white light can pass through water not gamma rays, x-rays, infrared etc."
   ]
  },
  {
   "cell_type": "markdown",
   "metadata": {},
   "source": [
    "#### James Clark Maxwell (Genius of the World)\n",
    "- Gauss' Law\n",
    "- Faraday's Law etc.\n",
    "\n",
    "He solved Calculus or Maths question without writing them down, just using his brain.\n",
    "\n",
    "**Changed the world in massive manner**"
   ]
  },
  {
   "cell_type": "markdown",
   "metadata": {},
   "source": [
    "## Era of Einstien"
   ]
  },
  {
   "cell_type": "markdown",
   "metadata": {},
   "source": [
    "Theories and stuff he predicted 100 of years ago was totally based on his brain. No computers, no super computers etc.\n",
    "\n",
    "### Max Plank Quantum Theory\n",
    "Initiated the concept of Quantum Computers\n",
    "\n",
    "- Search about Quantum Theory\n",
    "\n",
    "**Photo Electric Effect**\n",
    "- Nobel Prize of Einstien\n",
    "\n",
    "### Hence, proved at this stage: light is particle & wave both"
   ]
  },
  {
   "cell_type": "markdown",
   "metadata": {},
   "source": [
    "## Einstien Stunned the World 1915\n",
    " - 10 Equations\n",
    " - Changed the world\n",
    " - NASA Calculated Black hole using these equations\n",
    "     - Einstien proposed equataions 100 years ago\n",
    "     \n",
    "### The Equation in All\n",
    "Equation Explaning Universe\n",
    "![](./einstien.png)\n",
    "\n",
    "- Combination of all those 10 equations\n",
    "- Left part explains the Universe Expands concept\n",
    "- Right Part explains the exchanging of matter and energy"
   ]
  },
  {
   "cell_type": "code",
   "execution_count": null,
   "metadata": {},
   "outputs": [],
   "source": []
  }
 ],
 "metadata": {
  "kernelspec": {
   "display_name": "Python 3",
   "language": "python",
   "name": "python3"
  },
  "language_info": {
   "codemirror_mode": {
    "name": "ipython",
    "version": 3
   },
   "file_extension": ".py",
   "mimetype": "text/x-python",
   "name": "python",
   "nbconvert_exporter": "python",
   "pygments_lexer": "ipython3",
   "version": "3.6.5"
  }
 },
 "nbformat": 4,
 "nbformat_minor": 4
}
